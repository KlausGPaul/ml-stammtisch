{
 "cells": [
  {
   "cell_type": "markdown",
   "metadata": {},
   "source": [
    "# Download ECG data\n",
    "\n",
    "This notebook downloads ECG data from the [MIT-BIH Arrhythmia Database Directory](https://archive.physionet.org/physiobank/database/html/mitdbdir/mitdbdir.htm)\n",
    "\n",
    "Copyright 2020 Dr. Klaus G. Paul \n",
    "\n",
    "Permission is hereby granted, free of charge, to any person obtaining a copy of this software and associated documentation files (the \"Software\"), to deal in the Software without restriction, including without limitation the rights to use, copy, modify, merge, publish, distribute, sublicense, and/or sell copies of the Software, and to permit persons to whom the Software is furnished to do so, subject to the following conditions:\n",
    "\n",
    "The above copyright notice and this permission notice shall be included in all copies or substantial portions of the Software.\n",
    "\n",
    "THE SOFTWARE IS PROVIDED \"AS IS\", WITHOUT WARRANTY OF ANY KIND, EXPRESS OR IMPLIED, INCLUDING BUT NOT LIMITED TO THE WARRANTIES OF MERCHANTABILITY, FITNESS FOR A PARTICULAR PURPOSE AND NONINFRINGEMENT. IN NO EVENT SHALL THE AUTHORS OR COPYRIGHT HOLDERS BE LIABLE FOR ANY CLAIM, DAMAGES OR OTHER LIABILITY, WHETHER IN AN ACTION OF CONTRACT, TORT OR OTHERWISE, ARISING FROM, OUT OF OR IN CONNECTION WITH THE SOFTWARE OR THE USE OR OTHER DEALINGS IN THE SOFTWARE."
   ]
  },
  {
   "cell_type": "code",
   "execution_count": 1,
   "metadata": {},
   "outputs": [],
   "source": [
    "from IPython.display import display\n",
    "from ipywidgets import IntProgress\n",
    "import numpy as np\n",
    "import os\n",
    "import pandas as pd\n",
    "import wfdb\n",
    "import requests\n",
    "import zipfile, io"
   ]
  },
  {
   "cell_type": "markdown",
   "metadata": {},
   "source": [
    "Download the zip archive and extract all the files"
   ]
  },
  {
   "cell_type": "code",
   "execution_count": 159,
   "metadata": {},
   "outputs": [],
   "source": [
    "r = requests.get(\"https://storage.googleapis.com/mitdb-1.0.0.physionet.org/mit-bih-arrhythmia-database-1.0.0.zip\")\n",
    "z = zipfile.ZipFile(io.BytesIO(r.content))\n",
    "if not os.path.exists(\"./mit-data\"):\n",
    "    os.mkdir(\"./mit-data\")\n",
    "z.extractall(\"./mit-data\")"
   ]
  },
  {
   "cell_type": "markdown",
   "metadata": {},
   "source": [
    "This is not very generic, but the example does not need a concise dataset."
   ]
  },
  {
   "cell_type": "code",
   "execution_count": 2,
   "metadata": {},
   "outputs": [],
   "source": [
    "r = set()\n",
    "for f in os.listdir(\"./mit-data/mit-bih-arrhythmia-database-1.0.0/\"):\n",
    "    s = f.split(\".\")[0][:3]\n",
    "    if s.isdigit():\n",
    "        r.add(s)"
   ]
  },
  {
   "cell_type": "code",
   "execution_count": 3,
   "metadata": {},
   "outputs": [
    {
     "data": {
      "application/vnd.jupyter.widget-view+json": {
       "model_id": "1b5d47f9e34c421697ad8a14174518fa",
       "version_major": 2,
       "version_minor": 0
      },
      "text/plain": [
       "IntProgress(value=0, max=48)"
      ]
     },
     "metadata": {},
     "output_type": "display_data"
    }
   ],
   "source": [
    "wIP = IntProgress(min=0,max=len(r))\n",
    "display(wIP)\n",
    "allAbnormalities = []\n",
    "allData = []\n",
    "\n",
    "for rec in r:\n",
    "    record = wfdb.rdrecord('./mit-data/mit-bih-arrhythmia-database-1.0.0/{}'.format(rec))\n",
    "    dfHB = pd.DataFrame(record.p_signal)\n",
    "    dfHB.rename(columns={0:record.sig_name[0],1:record.sig_name[1]},inplace=True)\n",
    "    dfHB[\"record\"] = rec # this is the reference between time series and markup data\n",
    "    dfHB[\"sample\"] = dfHB.index\n",
    "    # this is known\n",
    "    freq = 360\n",
    "    period = '{}N'.format(int(1e9 / freq))\n",
    "    index = pd.date_range(pd.to_datetime(\"2020-01-01 12:00\"), periods=len(dfHB), freq=period)\n",
    "    dfHB[\"Timestamp\"] = index\n",
    "    # need to reduce the amount of data\n",
    "    dfHB = dfHB[dfHB.Timestamp < pd.to_datetime(\"2020-01-01 12:02:30\")]\n",
    "    dfHB.index = dfHB[\"Timestamp\"]\n",
    "    # else bokeh may complain about identical names\n",
    "    del dfHB.index.name\n",
    "    dfHB.to_parquet(\"../data/{}.parquet\".format(rec), use_deprecated_int96_timestamps=True)\n",
    "    allData.append(dfHB)\n",
    "    \n",
    "    ann = wfdb.rdann('./mit-data/mit-bih-arrhythmia-database-1.0.0/{}'.format(rec),\n",
    "                     extension='atr',return_label_elements=['symbol', 'label_store', 'description'])\n",
    "    ann.create_label_map()\n",
    "    dfAnn = pd.DataFrame({\"annotation\":ann.description,\"sample\":ann.sample,\"symbol\":ann.symbol})\n",
    "    dfAnn = dfAnn[dfAnn[\"sample\"] <= len(dfHB)]\n",
    "    dfAnn = pd.merge(dfAnn,dfHB,on=\"sample\")\n",
    "    dfAnn[\"record\"] = rec\n",
    "    # else bokeh may complain about identical names\n",
    "    del dfAnn.index.name\n",
    "    # uncomment this if you think you need the individual files\n",
    "    #dfAnn.to_csv(\"../data/ann.{}.csv\".format(rec))\n",
    "    #dfAnn[dfAnn.symbol != \"N\"].to_csv(\"../data/ann.abnormalities.{}.csv\".format(rec))\n",
    "\n",
    "    allAbnormalities.append(dfAnn[dfAnn.symbol != \"N\"][[\"Timestamp\",\"annotation\",\"symbol\",\"record\"]])\n",
    "    \n",
    "    wIP.value += 1\n",
    "    \n",
    "pd.DataFrame().append(allAbnormalities,sort=False).to_parquet(\"../data/abnormalities.parquet\", use_deprecated_int96_timestamps=True)\n",
    "#pd.DataFrame().append(allData,sort=False).to_parquet(\"../data/ecg.parquet\", use_deprecated_int96_timestamps=True)"
   ]
  },
  {
   "cell_type": "code",
   "execution_count": null,
   "metadata": {},
   "outputs": [],
   "source": []
  }
 ],
 "metadata": {
  "kernelspec": {
   "display_name": "Python 3",
   "language": "python",
   "name": "python3"
  },
  "language_info": {
   "codemirror_mode": {
    "name": "ipython",
    "version": 3
   },
   "file_extension": ".py",
   "mimetype": "text/x-python",
   "name": "python",
   "nbconvert_exporter": "python",
   "pygments_lexer": "ipython3",
   "version": "3.7.3"
  }
 },
 "nbformat": 4,
 "nbformat_minor": 2
}
